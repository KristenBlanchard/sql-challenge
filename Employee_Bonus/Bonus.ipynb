{
 "cells": [
  {
   "cell_type": "code",
   "execution_count": 38,
   "metadata": {
    "tags": []
   },
   "outputs": [
    {
     "output_type": "stream",
     "name": "stdout",
     "text": "Using matplotlib backend: MacOSX\n"
    }
   ],
   "source": [
    "%matplotlib"
   ]
  },
  {
   "cell_type": "code",
   "execution_count": 39,
   "metadata": {},
   "outputs": [],
   "source": [
    "# Dependencies\n",
    "from sqlalchemy import create_engine\n",
    "import pandas as pd\n",
    "import matplotlib.pyplot as plt\n",
    "from passwords import password\n",
    "import numpy as np"
   ]
  },
  {
   "cell_type": "code",
   "execution_count": 40,
   "metadata": {},
   "outputs": [],
   "source": [
    "# Import the SQL database into Pandas\n",
    "engine = create_engine('postgresql://postgres:' + password + '@localhost:5433/SQL - Homework')\n",
    "connection = engine.connect()\n"
   ]
  },
  {
   "cell_type": "code",
   "execution_count": 41,
   "metadata": {},
   "outputs": [
    {
     "output_type": "execute_result",
     "data": {
      "text/plain": "   emp_no  salary\n0   10001   60117\n1   10002   65828\n2   10003   40006\n3   10004   40054\n4   10005   78228",
      "text/html": "<div>\n<style scoped>\n    .dataframe tbody tr th:only-of-type {\n        vertical-align: middle;\n    }\n\n    .dataframe tbody tr th {\n        vertical-align: top;\n    }\n\n    .dataframe thead th {\n        text-align: right;\n    }\n</style>\n<table border=\"1\" class=\"dataframe\">\n  <thead>\n    <tr style=\"text-align: right;\">\n      <th></th>\n      <th>emp_no</th>\n      <th>salary</th>\n    </tr>\n  </thead>\n  <tbody>\n    <tr>\n      <th>0</th>\n      <td>10001</td>\n      <td>60117</td>\n    </tr>\n    <tr>\n      <th>1</th>\n      <td>10002</td>\n      <td>65828</td>\n    </tr>\n    <tr>\n      <th>2</th>\n      <td>10003</td>\n      <td>40006</td>\n    </tr>\n    <tr>\n      <th>3</th>\n      <td>10004</td>\n      <td>40054</td>\n    </tr>\n    <tr>\n      <th>4</th>\n      <td>10005</td>\n      <td>78228</td>\n    </tr>\n  </tbody>\n</table>\n</div>"
     },
     "metadata": {},
     "execution_count": 41
    }
   ],
   "source": [
    "salaries_data = pd.read_sql('SELECT * FROM salaries', connection)\n",
    "salaries_data.head()"
   ]
  },
  {
   "cell_type": "code",
   "execution_count": 55,
   "metadata": {},
   "outputs": [],
   "source": [
    "# Create histogram of common salary ranges for employees\n",
    "salaries_data.hist(column='salary', grid=0)\n",
    "plt.title('Common Salary Ranges for Employees')\n",
    "plt.xlabel('Salary')\n",
    "plt.ylabel('Frequency')\n",
    "\n",
    "# Save fig\n",
    "plt.savefig('../Employee_Bonus/Common_Salary_Ranges_for_Employees.png')"
   ]
  },
  {
   "cell_type": "code",
   "execution_count": 43,
   "metadata": {},
   "outputs": [
    {
     "output_type": "execute_result",
     "data": {
      "text/plain": "  emp_title_id               title\n0        s0001               Staff\n1        s0002        Senior Staff\n2        e0001  Assistant Engineer\n3        e0002            Engineer\n4        e0003     Senior Engineer\n5        e0004    Technique Leader\n6        m0001             Manager",
      "text/html": "<div>\n<style scoped>\n    .dataframe tbody tr th:only-of-type {\n        vertical-align: middle;\n    }\n\n    .dataframe tbody tr th {\n        vertical-align: top;\n    }\n\n    .dataframe thead th {\n        text-align: right;\n    }\n</style>\n<table border=\"1\" class=\"dataframe\">\n  <thead>\n    <tr style=\"text-align: right;\">\n      <th></th>\n      <th>emp_title_id</th>\n      <th>title</th>\n    </tr>\n  </thead>\n  <tbody>\n    <tr>\n      <th>0</th>\n      <td>s0001</td>\n      <td>Staff</td>\n    </tr>\n    <tr>\n      <th>1</th>\n      <td>s0002</td>\n      <td>Senior Staff</td>\n    </tr>\n    <tr>\n      <th>2</th>\n      <td>e0001</td>\n      <td>Assistant Engineer</td>\n    </tr>\n    <tr>\n      <th>3</th>\n      <td>e0002</td>\n      <td>Engineer</td>\n    </tr>\n    <tr>\n      <th>4</th>\n      <td>e0003</td>\n      <td>Senior Engineer</td>\n    </tr>\n    <tr>\n      <th>5</th>\n      <td>e0004</td>\n      <td>Technique Leader</td>\n    </tr>\n    <tr>\n      <th>6</th>\n      <td>m0001</td>\n      <td>Manager</td>\n    </tr>\n  </tbody>\n</table>\n</div>"
     },
     "metadata": {},
     "execution_count": 43
    }
   ],
   "source": [
    "# Read in title data\n",
    "title_data = pd.read_sql('SELECT * FROM titles', connection)\n",
    "title_data = title_data.rename(columns={'title_id':'emp_title_id'})\n",
    "title_data"
   ]
  },
  {
   "cell_type": "code",
   "execution_count": 44,
   "metadata": {},
   "outputs": [
    {
     "output_type": "execute_result",
     "data": {
      "text/plain": "   emp_no emp_title_id\n0  473302        s0001\n1  475053        e0002\n2   57444        e0002\n3  421786        s0001\n4  282238        e0003",
      "text/html": "<div>\n<style scoped>\n    .dataframe tbody tr th:only-of-type {\n        vertical-align: middle;\n    }\n\n    .dataframe tbody tr th {\n        vertical-align: top;\n    }\n\n    .dataframe thead th {\n        text-align: right;\n    }\n</style>\n<table border=\"1\" class=\"dataframe\">\n  <thead>\n    <tr style=\"text-align: right;\">\n      <th></th>\n      <th>emp_no</th>\n      <th>emp_title_id</th>\n    </tr>\n  </thead>\n  <tbody>\n    <tr>\n      <th>0</th>\n      <td>473302</td>\n      <td>s0001</td>\n    </tr>\n    <tr>\n      <th>1</th>\n      <td>475053</td>\n      <td>e0002</td>\n    </tr>\n    <tr>\n      <th>2</th>\n      <td>57444</td>\n      <td>e0002</td>\n    </tr>\n    <tr>\n      <th>3</th>\n      <td>421786</td>\n      <td>s0001</td>\n    </tr>\n    <tr>\n      <th>4</th>\n      <td>282238</td>\n      <td>e0003</td>\n    </tr>\n  </tbody>\n</table>\n</div>"
     },
     "metadata": {},
     "execution_count": 44
    }
   ],
   "source": [
    "# Read in employees data needed\n",
    "employees_data = pd.read_sql('SELECT emp_no, emp_title_id FROM employees', connection)\n",
    "employees_data.head()"
   ]
  },
  {
   "cell_type": "code",
   "execution_count": 45,
   "metadata": {},
   "outputs": [
    {
     "output_type": "execute_result",
     "data": {
      "text/plain": "                     emp_no        salary\nemp_title_id                             \ne0001         252992.595373  48564.434447\ne0002         253654.345919  48535.336511\ne0003         253038.749885  48506.799871\ne0004         251811.432730  48582.896092\nm0001         110780.833333  51531.041667\ns0001         253408.503604  58465.382850\ns0002         254481.798969  58550.172704",
      "text/html": "<div>\n<style scoped>\n    .dataframe tbody tr th:only-of-type {\n        vertical-align: middle;\n    }\n\n    .dataframe tbody tr th {\n        vertical-align: top;\n    }\n\n    .dataframe thead th {\n        text-align: right;\n    }\n</style>\n<table border=\"1\" class=\"dataframe\">\n  <thead>\n    <tr style=\"text-align: right;\">\n      <th></th>\n      <th>emp_no</th>\n      <th>salary</th>\n    </tr>\n    <tr>\n      <th>emp_title_id</th>\n      <th></th>\n      <th></th>\n    </tr>\n  </thead>\n  <tbody>\n    <tr>\n      <th>e0001</th>\n      <td>252992.595373</td>\n      <td>48564.434447</td>\n    </tr>\n    <tr>\n      <th>e0002</th>\n      <td>253654.345919</td>\n      <td>48535.336511</td>\n    </tr>\n    <tr>\n      <th>e0003</th>\n      <td>253038.749885</td>\n      <td>48506.799871</td>\n    </tr>\n    <tr>\n      <th>e0004</th>\n      <td>251811.432730</td>\n      <td>48582.896092</td>\n    </tr>\n    <tr>\n      <th>m0001</th>\n      <td>110780.833333</td>\n      <td>51531.041667</td>\n    </tr>\n    <tr>\n      <th>s0001</th>\n      <td>253408.503604</td>\n      <td>58465.382850</td>\n    </tr>\n    <tr>\n      <th>s0002</th>\n      <td>254481.798969</td>\n      <td>58550.172704</td>\n    </tr>\n  </tbody>\n</table>\n</div>"
     },
     "metadata": {},
     "execution_count": 45
    }
   ],
   "source": [
    "# Merge employees and salaries\n",
    "merged_data = pd.merge(employees_data, salaries_data, on='emp_no').groupby('emp_title_id').mean()\n",
    "merged_data"
   ]
  },
  {
   "cell_type": "code",
   "execution_count": 46,
   "metadata": {},
   "outputs": [
    {
     "output_type": "execute_result",
     "data": {
      "text/plain": "  emp_title_id               title         emp_no        salary\n0        s0001               Staff  253408.503604  58465.382850\n1        s0002        Senior Staff  254481.798969  58550.172704\n2        e0001  Assistant Engineer  252992.595373  48564.434447\n3        e0002            Engineer  253654.345919  48535.336511\n4        e0003     Senior Engineer  253038.749885  48506.799871\n5        e0004    Technique Leader  251811.432730  48582.896092\n6        m0001             Manager  110780.833333  51531.041667",
      "text/html": "<div>\n<style scoped>\n    .dataframe tbody tr th:only-of-type {\n        vertical-align: middle;\n    }\n\n    .dataframe tbody tr th {\n        vertical-align: top;\n    }\n\n    .dataframe thead th {\n        text-align: right;\n    }\n</style>\n<table border=\"1\" class=\"dataframe\">\n  <thead>\n    <tr style=\"text-align: right;\">\n      <th></th>\n      <th>emp_title_id</th>\n      <th>title</th>\n      <th>emp_no</th>\n      <th>salary</th>\n    </tr>\n  </thead>\n  <tbody>\n    <tr>\n      <th>0</th>\n      <td>s0001</td>\n      <td>Staff</td>\n      <td>253408.503604</td>\n      <td>58465.382850</td>\n    </tr>\n    <tr>\n      <th>1</th>\n      <td>s0002</td>\n      <td>Senior Staff</td>\n      <td>254481.798969</td>\n      <td>58550.172704</td>\n    </tr>\n    <tr>\n      <th>2</th>\n      <td>e0001</td>\n      <td>Assistant Engineer</td>\n      <td>252992.595373</td>\n      <td>48564.434447</td>\n    </tr>\n    <tr>\n      <th>3</th>\n      <td>e0002</td>\n      <td>Engineer</td>\n      <td>253654.345919</td>\n      <td>48535.336511</td>\n    </tr>\n    <tr>\n      <th>4</th>\n      <td>e0003</td>\n      <td>Senior Engineer</td>\n      <td>253038.749885</td>\n      <td>48506.799871</td>\n    </tr>\n    <tr>\n      <th>5</th>\n      <td>e0004</td>\n      <td>Technique Leader</td>\n      <td>251811.432730</td>\n      <td>48582.896092</td>\n    </tr>\n    <tr>\n      <th>6</th>\n      <td>m0001</td>\n      <td>Manager</td>\n      <td>110780.833333</td>\n      <td>51531.041667</td>\n    </tr>\n  </tbody>\n</table>\n</div>"
     },
     "metadata": {},
     "execution_count": 46
    }
   ],
   "source": [
    "# Merge titles to get employee title\n",
    "final_merge = pd.merge(title_data, merged_data, on='emp_title_id')\n",
    "final_merge"
   ]
  },
  {
   "cell_type": "code",
   "execution_count": 47,
   "metadata": {},
   "outputs": [
    {
     "output_type": "execute_result",
     "data": {
      "text/plain": "                title        salary\n0               Staff  58465.382850\n1        Senior Staff  58550.172704\n2  Assistant Engineer  48564.434447\n3            Engineer  48535.336511\n4     Senior Engineer  48506.799871\n5    Technique Leader  48582.896092\n6             Manager  51531.041667",
      "text/html": "<div>\n<style scoped>\n    .dataframe tbody tr th:only-of-type {\n        vertical-align: middle;\n    }\n\n    .dataframe tbody tr th {\n        vertical-align: top;\n    }\n\n    .dataframe thead th {\n        text-align: right;\n    }\n</style>\n<table border=\"1\" class=\"dataframe\">\n  <thead>\n    <tr style=\"text-align: right;\">\n      <th></th>\n      <th>title</th>\n      <th>salary</th>\n    </tr>\n  </thead>\n  <tbody>\n    <tr>\n      <th>0</th>\n      <td>Staff</td>\n      <td>58465.382850</td>\n    </tr>\n    <tr>\n      <th>1</th>\n      <td>Senior Staff</td>\n      <td>58550.172704</td>\n    </tr>\n    <tr>\n      <th>2</th>\n      <td>Assistant Engineer</td>\n      <td>48564.434447</td>\n    </tr>\n    <tr>\n      <th>3</th>\n      <td>Engineer</td>\n      <td>48535.336511</td>\n    </tr>\n    <tr>\n      <th>4</th>\n      <td>Senior Engineer</td>\n      <td>48506.799871</td>\n    </tr>\n    <tr>\n      <th>5</th>\n      <td>Technique Leader</td>\n      <td>48582.896092</td>\n    </tr>\n    <tr>\n      <th>6</th>\n      <td>Manager</td>\n      <td>51531.041667</td>\n    </tr>\n  </tbody>\n</table>\n</div>"
     },
     "metadata": {},
     "execution_count": 47
    }
   ],
   "source": [
    "# Drop unwanted rows\n",
    "data = final_merge.drop(['emp_title_id', 'emp_no'], axis=1)\n",
    "data\n"
   ]
  },
  {
   "cell_type": "code",
   "execution_count": 53,
   "metadata": {},
   "outputs": [],
   "source": [
    "# Set x_axis, y_axis & Tick Locations\n",
    "x_axis = data[\"title\"]\n",
    "ticks = np.arange(len(x_axis))\n",
    "y_axis = data[\"salary\"]\n",
    " \n",
    "# Create Bar Chart Based on Above Data\n",
    "plt.bar(x_axis, y_axis, align=\"center\", alpha=0.5, color=[\"m\", \"b\", \"g\", \"y\", \"k\", \"c\", \"r\"])\n",
    "\n",
    "# Create Ticks for Bar Chart's x_axis\n",
    "plt.xticks(ticks, x_axis, rotation='vertical')\n",
    "\n",
    "# Set Labels & Title\n",
    "plt.ylabel(\"Salaries ($)\")\n",
    "plt.xlabel(\"Employee Titles\")\n",
    "plt.title(\"Average Employee Salary by Title\")\n",
    "\n",
    "# Show plot\n",
    "plt.show()\n",
    "\n",
    "# Save Figure\n",
    "plt.savefig(\"../Employee_Bonus/Average_Salary_by_Title.png\")\n"
   ]
  },
  {
   "cell_type": "code",
   "execution_count": null,
   "metadata": {},
   "outputs": [],
   "source": []
  }
 ],
 "metadata": {
  "language_info": {
   "codemirror_mode": {
    "name": "ipython",
    "version": 3
   },
   "file_extension": ".py",
   "mimetype": "text/x-python",
   "name": "python",
   "nbconvert_exporter": "python",
   "pygments_lexer": "ipython3",
   "version": "3.6.10-final"
  },
  "orig_nbformat": 2,
  "kernelspec": {
   "name": "python_defaultSpec_1600984677631",
   "display_name": "Python 3.6.10 64-bit ('PythonData': conda)"
  }
 },
 "nbformat": 4,
 "nbformat_minor": 2
}